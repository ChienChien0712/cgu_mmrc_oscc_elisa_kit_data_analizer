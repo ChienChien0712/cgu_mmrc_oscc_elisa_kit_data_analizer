{
 "cells": [
  {
   "cell_type": "code",
   "execution_count": 1,
   "metadata": {},
   "outputs": [],
   "source": [
    "import numpy as np\n",
    "import pandas as pd\n",
    "import matplotlib.pyplot as plt\n",
    "import statsmodels.api as sm\n",
    "import time\n",
    "from scipy.stats import t"
   ]
  },
  {
   "cell_type": "code",
   "execution_count": 2,
   "metadata": {},
   "outputs": [],
   "source": [
    "plt.rcParams['figure.figsize'] = (15.0, 9.0)\n",
    "plt.rcParams['figure.dpi'] = 100"
   ]
  },
  {
   "cell_type": "code",
   "execution_count": 3,
   "metadata": {},
   "outputs": [
    {
     "data": {
      "text/html": [
       "<div>\n",
       "<style scoped>\n",
       "    .dataframe tbody tr th:only-of-type {\n",
       "        vertical-align: middle;\n",
       "    }\n",
       "\n",
       "    .dataframe tbody tr th {\n",
       "        vertical-align: top;\n",
       "    }\n",
       "\n",
       "    .dataframe thead th {\n",
       "        text-align: right;\n",
       "    }\n",
       "</style>\n",
       "<table border=\"1\" class=\"dataframe\">\n",
       "  <thead>\n",
       "    <tr style=\"text-align: right;\">\n",
       "      <th></th>\n",
       "      <th>date</th>\n",
       "      <th>day</th>\n",
       "      <th>sample</th>\n",
       "      <th>5E-S1-01</th>\n",
       "      <th>5E-S1-02</th>\n",
       "      <th>5E-S1-03</th>\n",
       "      <th>5E-S1-04</th>\n",
       "      <th>5E-S1-05</th>\n",
       "      <th>5E-H-01</th>\n",
       "      <th>5E-H-02</th>\n",
       "      <th>...</th>\n",
       "      <th>5E-S4-01</th>\n",
       "      <th>5E-S4-02</th>\n",
       "      <th>5E-S4-03</th>\n",
       "      <th>5E-S4-04</th>\n",
       "      <th>5E-S4-05</th>\n",
       "      <th>5E-Q1-01</th>\n",
       "      <th>5E-Q1-02</th>\n",
       "      <th>5E-Q1-03</th>\n",
       "      <th>5E-Q1-04</th>\n",
       "      <th>5E-Q1-05</th>\n",
       "    </tr>\n",
       "  </thead>\n",
       "  <tbody>\n",
       "    <tr>\n",
       "      <th>0</th>\n",
       "      <td>2019-07-05</td>\n",
       "      <td>0</td>\n",
       "      <td>0M</td>\n",
       "      <td>8497.950</td>\n",
       "      <td>8547.034</td>\n",
       "      <td>8549.255</td>\n",
       "      <td>8554.364</td>\n",
       "      <td>8555.252</td>\n",
       "      <td>6271.153</td>\n",
       "      <td>6083.033</td>\n",
       "      <td>...</td>\n",
       "      <td>510.490</td>\n",
       "      <td>548.469</td>\n",
       "      <td>545.804</td>\n",
       "      <td>551.579</td>\n",
       "      <td>555.576</td>\n",
       "      <td>276.838</td>\n",
       "      <td>291.941</td>\n",
       "      <td>291.275</td>\n",
       "      <td>282.169</td>\n",
       "      <td>274.395</td>\n",
       "    </tr>\n",
       "    <tr>\n",
       "      <th>1</th>\n",
       "      <td>2019-07-19</td>\n",
       "      <td>14</td>\n",
       "      <td>1M</td>\n",
       "      <td>7863.262</td>\n",
       "      <td>7891.691</td>\n",
       "      <td>7899.667</td>\n",
       "      <td>7883.714</td>\n",
       "      <td>7888.009</td>\n",
       "      <td>5641.924</td>\n",
       "      <td>5884.080</td>\n",
       "      <td>...</td>\n",
       "      <td>518.795</td>\n",
       "      <td>539.861</td>\n",
       "      <td>564.608</td>\n",
       "      <td>591.810</td>\n",
       "      <td>589.560</td>\n",
       "      <td>307.726</td>\n",
       "      <td>308.339</td>\n",
       "      <td>283.387</td>\n",
       "      <td>311.816</td>\n",
       "      <td>274.797</td>\n",
       "    </tr>\n",
       "    <tr>\n",
       "      <th>2</th>\n",
       "      <td>2019-08-20</td>\n",
       "      <td>46</td>\n",
       "      <td>2M</td>\n",
       "      <td>7893.051</td>\n",
       "      <td>7851.237</td>\n",
       "      <td>8260.459</td>\n",
       "      <td>8260.459</td>\n",
       "      <td>8260.459</td>\n",
       "      <td>5945.639</td>\n",
       "      <td>5930.569</td>\n",
       "      <td>...</td>\n",
       "      <td>453.406</td>\n",
       "      <td>494.795</td>\n",
       "      <td>509.440</td>\n",
       "      <td>559.532</td>\n",
       "      <td>549.131</td>\n",
       "      <td>237.758</td>\n",
       "      <td>266.624</td>\n",
       "      <td>255.375</td>\n",
       "      <td>254.313</td>\n",
       "      <td>291.033</td>\n",
       "    </tr>\n",
       "    <tr>\n",
       "      <th>3</th>\n",
       "      <td>2019-09-23</td>\n",
       "      <td>80</td>\n",
       "      <td>3M</td>\n",
       "      <td>7422.638</td>\n",
       "      <td>7316.215</td>\n",
       "      <td>8243.970</td>\n",
       "      <td>8488.675</td>\n",
       "      <td>8119.019</td>\n",
       "      <td>6089.753</td>\n",
       "      <td>6107.151</td>\n",
       "      <td>...</td>\n",
       "      <td>509.668</td>\n",
       "      <td>519.158</td>\n",
       "      <td>520.514</td>\n",
       "      <td>524.807</td>\n",
       "      <td>569.771</td>\n",
       "      <td>407.086</td>\n",
       "      <td>341.109</td>\n",
       "      <td>327.552</td>\n",
       "      <td>388.784</td>\n",
       "      <td>353.988</td>\n",
       "    </tr>\n",
       "    <tr>\n",
       "      <th>4</th>\n",
       "      <td>2019-11-20</td>\n",
       "      <td>138</td>\n",
       "      <td>5M</td>\n",
       "      <td>8393.080</td>\n",
       "      <td>8283.950</td>\n",
       "      <td>8329.539</td>\n",
       "      <td>8553.232</td>\n",
       "      <td>8437.251</td>\n",
       "      <td>6435.824</td>\n",
       "      <td>6317.718</td>\n",
       "      <td>...</td>\n",
       "      <td>631.614</td>\n",
       "      <td>624.528</td>\n",
       "      <td>654.054</td>\n",
       "      <td>626.418</td>\n",
       "      <td>688.069</td>\n",
       "      <td>381.702</td>\n",
       "      <td>398.236</td>\n",
       "      <td>396.583</td>\n",
       "      <td>409.811</td>\n",
       "      <td>357.608</td>\n",
       "    </tr>\n",
       "  </tbody>\n",
       "</table>\n",
       "<p>5 rows × 43 columns</p>\n",
       "</div>"
      ],
      "text/plain": [
       "        date  day sample  5E-S1-01  5E-S1-02  5E-S1-03  5E-S1-04  5E-S1-05  \\\n",
       "0 2019-07-05    0     0M  8497.950  8547.034  8549.255  8554.364  8555.252   \n",
       "1 2019-07-19   14     1M  7863.262  7891.691  7899.667  7883.714  7888.009   \n",
       "2 2019-08-20   46     2M  7893.051  7851.237  8260.459  8260.459  8260.459   \n",
       "3 2019-09-23   80     3M  7422.638  7316.215  8243.970  8488.675  8119.019   \n",
       "4 2019-11-20  138     5M  8393.080  8283.950  8329.539  8553.232  8437.251   \n",
       "\n",
       "    5E-H-01   5E-H-02  ...  5E-S4-01  5E-S4-02  5E-S4-03  5E-S4-04  5E-S4-05  \\\n",
       "0  6271.153  6083.033  ...   510.490   548.469   545.804   551.579   555.576   \n",
       "1  5641.924  5884.080  ...   518.795   539.861   564.608   591.810   589.560   \n",
       "2  5945.639  5930.569  ...   453.406   494.795   509.440   559.532   549.131   \n",
       "3  6089.753  6107.151  ...   509.668   519.158   520.514   524.807   569.771   \n",
       "4  6435.824  6317.718  ...   631.614   624.528   654.054   626.418   688.069   \n",
       "\n",
       "   5E-Q1-01  5E-Q1-02  5E-Q1-03  5E-Q1-04  5E-Q1-05  \n",
       "0   276.838   291.941   291.275   282.169   274.395  \n",
       "1   307.726   308.339   283.387   311.816   274.797  \n",
       "2   237.758   266.624   255.375   254.313   291.033  \n",
       "3   407.086   341.109   327.552   388.784   353.988  \n",
       "4   381.702   398.236   396.583   409.811   357.608  \n",
       "\n",
       "[5 rows x 43 columns]"
      ]
     },
     "execution_count": 3,
     "metadata": {},
     "output_type": "execute_result"
    }
   ],
   "source": [
    "f1 = pd.read_excel('./data/stability_demo.xlsx')\n",
    "f1.head()"
   ]
  },
  {
   "cell_type": "code",
   "execution_count": 4,
   "metadata": {},
   "outputs": [],
   "source": [
    "date = ['%s-%02d-%02d'%(i.year,i.month,i.day) for i in list(f1['date'])]\n",
    "sample = list(f1['sample'])\n",
    "day = list(f1['day'])\n",
    "\n",
    "Col = ['5E-S1','5E-S2','5E-S3','5E-S4','5E-Q1','5E-Q2','5E-L','5E-H']\n",
    "Suffix = ['01','02','03','04','05']"
   ]
  },
  {
   "cell_type": "code",
   "execution_count": 6,
   "metadata": {},
   "outputs": [
    {
     "data": {
      "text/plain": [
       "<Figure size 1500x900 with 0 Axes>"
      ]
     },
     "metadata": {},
     "output_type": "display_data"
    },
    {
     "data": {
      "text/plain": [
       "<Figure size 1500x900 with 0 Axes>"
      ]
     },
     "metadata": {},
     "output_type": "display_data"
    },
    {
     "data": {
      "text/plain": [
       "<Figure size 1500x900 with 0 Axes>"
      ]
     },
     "metadata": {},
     "output_type": "display_data"
    },
    {
     "data": {
      "text/plain": [
       "<Figure size 1500x900 with 0 Axes>"
      ]
     },
     "metadata": {},
     "output_type": "display_data"
    },
    {
     "data": {
      "text/plain": [
       "<Figure size 1500x900 with 0 Axes>"
      ]
     },
     "metadata": {},
     "output_type": "display_data"
    },
    {
     "data": {
      "text/plain": [
       "<Figure size 1500x900 with 0 Axes>"
      ]
     },
     "metadata": {},
     "output_type": "display_data"
    },
    {
     "data": {
      "text/plain": [
       "<Figure size 1500x900 with 0 Axes>"
      ]
     },
     "metadata": {},
     "output_type": "display_data"
    },
    {
     "data": {
      "text/plain": [
       "<Figure size 1500x900 with 0 Axes>"
      ]
     },
     "metadata": {},
     "output_type": "display_data"
    }
   ],
   "source": [
    "#Find aceeptable maximun date\n",
    "LIST = [['Day']+day+['Slope','Y-intercept','SE Slope','Slope t-stat','p Value']]\n",
    "for col in Col:\n",
    "    List = []\n",
    "    read = []\n",
    "    for s in Suffix:\n",
    "        read.append(list(f1[col+'-'+s]))\n",
    "\n",
    "    mean = list(np.array(sum(np.matrix(read))/len(read))[0])   \n",
    "    \n",
    "    \n",
    "    X = sm.add_constant(day)\n",
    "    Y = mean\n",
    "    model = sm.OLS(Y,X)\n",
    "    results = model.fit()\n",
    "    a0 = results.params[0]\n",
    "    a1 = results.params[1]\n",
    "\n",
    "    SSE = sum(results.resid**2)\n",
    "    k = len(results.params)\n",
    "    N = len(day)\n",
    "    Syx2 = SSE/(N-k)\n",
    "    Syx = np.sqrt(Syx2)\n",
    "    t0975 = t.ppf(0.975,df=N-k)\n",
    "    x_mean = np.mean(day)\n",
    "    SSx = sum((np.array(day) - x_mean)**2)\n",
    "    slope_p = results.pvalues[1]\n",
    "    star = ''\n",
    "    if (slope_p <= 0.05) & (slope_p > 0.01):\n",
    "        star += '*'\n",
    "    elif (slope_p <= 0.01) & (slope_p > 0.001):\n",
    "        star += '**'        \n",
    "    elif (slope_p <= 0.001):\n",
    "        star += '***'          \n",
    "    \n",
    "    x_forline = np.arange(min(day),max(day),1)\n",
    "    y_forline = a0 + x_forline*a1\n",
    "\n",
    "    lower = y_forline-t0975*Syx*np.sqrt(1/N + (x_forline-x_mean)**2/SSx)\n",
    "    upper = y_forline+t0975*Syx*np.sqrt(1/N + (x_forline-x_mean)**2/SSx)\n",
    "\n",
    "\n",
    "    #find day0 value\n",
    "    maxValue = mean[0]*1.1\n",
    "    maxDay = sum(maxValue > upper)-1\n",
    "    \n",
    "    #表格\n",
    "    List.append(col)\n",
    "    List.extend(mean)\n",
    "    List.append(a1)\n",
    "    List.append(a0)\n",
    "    List.append(results.bse[1])\n",
    "    List.append(results.tvalues[1])\n",
    "    List.append(slope_p)\n",
    "    LIST.append(List)\n",
    "    \n",
    "    #plot\n",
    "    #for r in range(len(read)):\n",
    "    #    plt.plot(day,read[r],label=col+'-'+Suffix[r])\n",
    "    fig, ax = plt.subplots(1, 1)\n",
    "    ax.scatter(day,mean,label='mean',color='black')\n",
    "    ax.plot(x_forline,y_forline,label='linear regression',color='black')\n",
    "    ax.plot(x_forline,lower,label='95% C.I.',color='black',linestyle='--')\n",
    "    ax.plot(x_forline,upper,color='black',linestyle='--')\n",
    "\n",
    "    #plt.scatter(day,mean,label=col)\n",
    "    #plt.plot(x_forline,y_forline,color='black')\n",
    "    #plt.plot(x_forline,lower,color='black',linestyle='--')\n",
    "    #plt.plot(x_forline,upper,color='black',linestyle='--')    \n",
    "    \n",
    "    ax.text(day[-4], min(lower),'slope=%.5f\\np-value=%.5f%s'%(a1,slope_p,star),fontsize=18)\n",
    "    day2 = day.copy()\n",
    "    day2.append(maxDay)\n",
    "    day2.sort()\n",
    "    \n",
    "    day3 = []\n",
    "    for i in day2:\n",
    "        if i == maxDay:\n",
    "            day3.append('\\n%s'%i)\n",
    "        else:\n",
    "            day3.append('%s'%i)\n",
    "    \n",
    "    plt.xticks(day2,day3,fontsize=14,rotation=0)\n",
    "    plt.yticks(fontsize=14)\n",
    "    plt.xlabel('Day',fontsize=16)\n",
    "    plt.ylabel('Concentration',fontsize=16)\n",
    "    plt.grid(linestyle='--')\n",
    "    plt.legend(fontsize=12)\n",
    "    plt.title(col,fontsize=20)\n",
    "    ax.annotate('%.1f'%maxValue,[2,maxValue*1.005],color='red')\n",
    "    \n",
    "    plt.gca().get_xticklabels()[day2.index(maxDay)].set_color(\"red\")\n",
    "    \n",
    "    \n",
    "    ax.plot([0,maxDay],[maxValue,maxValue],color='red',linestyle=':')\n",
    "    ax.scatter([0],[maxValue],color='red')\n",
    "    ybound_lower,ybound_upper = ax.get_ybound()\n",
    "    ax.plot([maxDay,maxDay],[ybound_lower,maxValue],color='red',linestyle=':')\n",
    "    plt.ylim(ybound_lower,ybound_upper)\n",
    "    plt.savefig('./results/%s.png'%col)\n",
    "    plt.clf()\n",
    "    #plt.show()"
   ]
  },
  {
   "cell_type": "code",
   "execution_count": 8,
   "metadata": {},
   "outputs": [],
   "source": [
    "output = pd.DataFrame(np.asmatrix(LIST).T)\n",
    "output.to_excel('./results/Statistical_Table.xlsx')"
   ]
  },
  {
   "cell_type": "code",
   "execution_count": null,
   "metadata": {},
   "outputs": [],
   "source": []
  }
 ],
 "metadata": {
  "kernelspec": {
   "display_name": "Python 3",
   "language": "python",
   "name": "python3"
  },
  "language_info": {
   "codemirror_mode": {
    "name": "ipython",
    "version": 3
   },
   "file_extension": ".py",
   "mimetype": "text/x-python",
   "name": "python",
   "nbconvert_exporter": "python",
   "pygments_lexer": "ipython3",
   "version": "3.8.8"
  }
 },
 "nbformat": 4,
 "nbformat_minor": 2
}
