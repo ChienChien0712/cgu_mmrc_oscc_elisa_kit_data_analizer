{
 "cells": [
  {
   "cell_type": "code",
   "execution_count": 1,
   "id": "7f4470a1",
   "metadata": {},
   "outputs": [],
   "source": [
    "import numpy as np\n",
    "import statsmodels.api as sm\n",
    "import matplotlib.pyplot as plt\n",
    "import os\n",
    "\n",
    "from sklearn.model_selection import train_test_split\n",
    "from sklearn.linear_model import LinearRegression\n",
    "\n",
    "from utils.regression import *"
   ]
  },
  {
   "cell_type": "code",
   "execution_count": 2,
   "id": "d48b7514",
   "metadata": {},
   "outputs": [],
   "source": [
    "file = os.listdir('./data')\n",
    "file = [i for i in file if i[-6:]=='0.xlsx']\n",
    "\n",
    "if 'output' not in os.listdir():\n",
    "    os.mkdir('output')\n",
    "writer = pd.ExcelWriter(\"./output/(results)線性分析_20200702.xlsx\", engine = 'xlsxwriter')\n",
    "for f in file:\n",
    "    data = regression_1to3(\"./data/%s\"%f)\n",
    "    #data.plot_regression1to3('干擾物濃度','Value',dim=4)\n",
    "    #data.plot_regression1to3('干擾物濃度','Value',dim=3)\n",
    "    #data.plot_regression1to3('干擾物濃度','Value',dim=2)\n",
    "    #data.plot_regression1to3('干擾物濃度','Value',dim=1)\n",
    "    #data.regression1to3_params_to_csv('Interference Conc.','OD',filename='../p15_線性/output/20191206線性分析_L_OD.csv')\n",
    "\n",
    "    repeatability = data.repeatability_error('dilution','value',brief=False)\n",
    "    #print(repeatability)\n",
    "    #repeatability.to_excel(\"../p28_線性/output/%s\"%f,index=False)\n",
    "    repeatability.to_excel(writer,sheet_name=f[:-5],index=False)\n",
    "    \n",
    "    #nonlinearity_table = data.nonlinearity_error('value','concentration',data_fortest=\"../p5/20191016_線性分析_analyse.xlsx\",degree=2)\n",
    "    #print(nonlinearity_table)\n",
    "    #nonlinearity_table.to_csv('../p5/output/nonlinearity_2nd-1st_diff.csv')\n",
    "writer.save()\n",
    "writer.close()"
   ]
  }
 ],
 "metadata": {
  "kernelspec": {
   "display_name": "Python 3",
   "language": "python",
   "name": "python3"
  },
  "language_info": {
   "codemirror_mode": {
    "name": "ipython",
    "version": 3
   },
   "file_extension": ".py",
   "mimetype": "text/x-python",
   "name": "python",
   "nbconvert_exporter": "python",
   "pygments_lexer": "ipython3",
   "version": "3.8.8"
  }
 },
 "nbformat": 4,
 "nbformat_minor": 5
}
